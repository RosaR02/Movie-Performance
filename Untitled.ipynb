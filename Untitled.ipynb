{
 "cells": [
  {
   "cell_type": "code",
   "execution_count": 16,
   "id": "679d8ec3",
   "metadata": {},
   "outputs": [],
   "source": [
    "def merge (Part2, part2_EDA,tmdb_results_combined):\n",
    "    \n",
    "    Part2 = pd.read_csv('Data/Movie_Profitability/Part2')\n",
    "    part2_EDA = pd,read_csv('Data/Movie_Profitability/part2_EDA')\n",
    "    \n",
    "    tmdb_results_combined = open(tmdb_results_combined, \"w\")\n",
    "    \n",
    "    Part2_contents = Part2.read()\n",
    "    part2_EDA_contents = part2_EDA.read()\n",
    "    \n",
    "    tmdb_results_combined.write(Part2_contents)\n",
    "    tmdb_results_combined.write(part2_EDA_contents)\n",
    "    \n",
    "    Part2.close()\n",
    "    part2_EDA.close()\n",
    "    tmdb_results_combined.close()\n",
    "    \n",
    "    merge (\"Part2\",\"part2_EDA\", \"tmdb_results_combined\")\n",
    "    "
   ]
  },
  {
   "cell_type": "code",
   "execution_count": 17,
   "id": "4b552958",
   "metadata": {},
   "outputs": [
    {
     "ename": "NameError",
     "evalue": "name 'tmdb_results_combined' is not defined",
     "output_type": "error",
     "traceback": [
      "\u001b[1;31m---------------------------------------------------------------------------\u001b[0m",
      "\u001b[1;31mNameError\u001b[0m                                 Traceback (most recent call last)",
      "Cell \u001b[1;32mIn [17], line 1\u001b[0m\n\u001b[1;32m----> 1\u001b[0m \u001b[43mtmdb_results_combined\u001b[49m\u001b[38;5;241m.\u001b[39mhead()\n",
      "\u001b[1;31mNameError\u001b[0m: name 'tmdb_results_combined' is not defined"
     ]
    }
   ],
   "source": [
    "tmdb_results_combined.head()"
   ]
  },
  {
   "cell_type": "code",
   "execution_count": null,
   "id": "dac6087b",
   "metadata": {},
   "outputs": [],
   "source": []
  }
 ],
 "metadata": {
  "kernelspec": {
   "display_name": "Python (dojo-env)",
   "language": "python",
   "name": "dojo-env"
  },
  "language_info": {
   "codemirror_mode": {
    "name": "ipython",
    "version": 3
   },
   "file_extension": ".py",
   "mimetype": "text/x-python",
   "name": "python",
   "nbconvert_exporter": "python",
   "pygments_lexer": "ipython3",
   "version": "3.9.15"
  },
  "toc": {
   "base_numbering": 1,
   "nav_menu": {},
   "number_sections": true,
   "sideBar": true,
   "skip_h1_title": false,
   "title_cell": "Table of Contents",
   "title_sidebar": "Contents",
   "toc_cell": false,
   "toc_position": {},
   "toc_section_display": true,
   "toc_window_display": false
  }
 },
 "nbformat": 4,
 "nbformat_minor": 5
}
